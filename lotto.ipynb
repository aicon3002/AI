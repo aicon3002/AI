{
  "nbformat": 4,
  "nbformat_minor": 0,
  "metadata": {
    "colab": {
      "name": "lotto.ipynb",
      "provenance": [],
      "collapsed_sections": []
    },
    "kernelspec": {
      "name": "python3",
      "display_name": "Python 3"
    }
  },
  "cells": [
    {
      "cell_type": "markdown",
      "metadata": {
        "id": "b1X8oXQ6-SGY",
        "colab_type": "text"
      },
      "source": [
        "#1 난수(Random Number)발생 알고리즘"
      ]
    },
    {
      "cell_type": "code",
      "metadata": {
        "id": "jMdaTbP9-OJE",
        "colab_type": "code",
        "colab": {}
      },
      "source": [
        "import numpy as np  #numpy라는 난수발생 알고리즘 라이브러리를 실행합니다. 그리고 np라고 축약합니다."
      ],
      "execution_count": null,
      "outputs": []
    },
    {
      "cell_type": "code",
      "metadata": {
        "id": "i6rusbVc-tA8",
        "colab_type": "code",
        "colab": {
          "base_uri": "https://localhost:8080/",
          "height": 35
        },
        "outputId": "5af1e092-ba8d-4672-ca76-30f0ed9053db"
      },
      "source": [
        "np.random.rand(5) #0에서 1까지 있는 수 중에 5개를 랜덤으로 뽑습니다. "
      ],
      "execution_count": null,
      "outputs": [
        {
          "output_type": "execute_result",
          "data": {
            "text/plain": [
              "array([0.53499178, 0.86154429, 0.24287511, 0.89357244, 0.0657084 ])"
            ]
          },
          "metadata": {
            "tags": []
          },
          "execution_count": 2
        }
      ]
    },
    {
      "cell_type": "code",
      "metadata": {
        "id": "_UWWk-3i_JDx",
        "colab_type": "code",
        "colab": {
          "base_uri": "https://localhost:8080/",
          "height": 35
        },
        "outputId": "a4590df1-191a-4a2f-ee86-be62feca57a9"
      },
      "source": [
        "np.random.rand(5) #0에서 1까지 있는 수 중에 5개를 랜덤으로 뽑습니다. 명령어를 실행할때 마다 달라집니다. "
      ],
      "execution_count": null,
      "outputs": [
        {
          "output_type": "execute_result",
          "data": {
            "text/plain": [
              "array([0.5488135 , 0.71518937, 0.60276338, 0.54488318, 0.4236548 ])"
            ]
          },
          "metadata": {
            "tags": []
          },
          "execution_count": 6
        }
      ]
    },
    {
      "cell_type": "code",
      "metadata": {
        "id": "vIm3O0He-6Yl",
        "colab_type": "code",
        "colab": {
          "base_uri": "https://localhost:8080/",
          "height": 52
        },
        "outputId": "2253d7e0-17f2-47e7-9e9c-ab598486d065"
      },
      "source": [
        "np.random.rand(10) #0에서 1까지 있는 수 중에 10개를 랜덤으로 뽑습니다. "
      ],
      "execution_count": null,
      "outputs": [
        {
          "output_type": "execute_result",
          "data": {
            "text/plain": [
              "array([0.15362162, 0.30779718, 0.10051848, 0.79711608, 0.20042531,\n",
              "       0.01654847, 0.1144813 , 0.16638491, 0.57280524, 0.87465186])"
            ]
          },
          "metadata": {
            "tags": []
          },
          "execution_count": 3
        }
      ]
    },
    {
      "cell_type": "code",
      "metadata": {
        "id": "K6FGyC1T-9sp",
        "colab_type": "code",
        "colab": {
          "base_uri": "https://localhost:8080/",
          "height": 35
        },
        "outputId": "aa42c43b-7653-4b6f-adb4-6046eb1ac9c8"
      },
      "source": [
        "np.random.seed(0) #난수 생성 중에 특정한 패턴을 지정합니다\n",
        "np.random.rand(5) #0에서 1까지 있는 수 중에 5개를 랜덤으로 뽑습니다. \n"
      ],
      "execution_count": null,
      "outputs": [
        {
          "output_type": "execute_result",
          "data": {
            "text/plain": [
              "array([0.5488135 , 0.71518937, 0.60276338, 0.54488318, 0.4236548 ])"
            ]
          },
          "metadata": {
            "tags": []
          },
          "execution_count": 15
        }
      ]
    },
    {
      "cell_type": "code",
      "metadata": {
        "id": "7NdLH_Nw_lA9",
        "colab_type": "code",
        "colab": {
          "base_uri": "https://localhost:8080/",
          "height": 35
        },
        "outputId": "4321e6d5-bc96-4760-84f7-44cda6ce00f0"
      },
      "source": [
        "np.random.seed(0) #난수 생성 중에 특정한 패턴을 지정합니다\n",
        "np.random.rand(5) #0에서 1까지 있는 수 중에 5개를 랜덤으로 뽑습니다. "
      ],
      "execution_count": null,
      "outputs": [
        {
          "output_type": "execute_result",
          "data": {
            "text/plain": [
              "array([0.5488135 , 0.71518937, 0.60276338, 0.54488318, 0.4236548 ])"
            ]
          },
          "metadata": {
            "tags": []
          },
          "execution_count": 16
        }
      ]
    },
    {
      "cell_type": "code",
      "metadata": {
        "id": "4eHaOyuD_nh9",
        "colab_type": "code",
        "colab": {
          "base_uri": "https://localhost:8080/",
          "height": 35
        },
        "outputId": "893a3cc2-6a38-4d82-e07c-600aad46866d"
      },
      "source": [
        "x=np.arange(10) #랜덤으로 0부터 9까지 나옵니다. \n",
        "np.random.permutation(x) #순서를 랜덤하게 바꿉니다. "
      ],
      "execution_count": null,
      "outputs": [
        {
          "output_type": "execute_result",
          "data": {
            "text/plain": [
              "array([3, 1, 8, 7, 9, 0, 6, 4, 2, 5])"
            ]
          },
          "metadata": {
            "tags": []
          },
          "execution_count": 20
        }
      ]
    },
    {
      "cell_type": "code",
      "metadata": {
        "id": "h36wewpt__lw",
        "colab_type": "code",
        "colab": {
          "base_uri": "https://localhost:8080/",
          "height": 35
        },
        "outputId": "78b223eb-22bb-4e0a-ae85-f5f9781121e7"
      },
      "source": [
        "x=np.arange(10)\n",
        "np.random.permutation(x) #순서를 랜덤하게 바꿉니다. "
      ],
      "execution_count": null,
      "outputs": [
        {
          "output_type": "execute_result",
          "data": {
            "text/plain": [
              "array([5, 2, 3, 4, 1, 0, 9, 8, 7, 6])"
            ]
          },
          "metadata": {
            "tags": []
          },
          "execution_count": 21
        }
      ]
    },
    {
      "cell_type": "markdown",
      "metadata": {
        "id": "k2D4EfDZAMIv",
        "colab_type": "text"
      },
      "source": [
        "#2 샘플 뽑기 \n",
        "np.random.choice(a, size=None, replace=True, p=None)\n",
        "\n",
        "a: 배열, \n",
        "size: 샘플 숫자 \n",
        "repalce : 복원/비복원 \n",
        "p: 배열, 데이터가 선택될 확률 "
      ]
    },
    {
      "cell_type": "markdown",
      "metadata": {
        "id": "lthskY2o-PVR",
        "colab_type": "text"
      },
      "source": [
        ""
      ]
    },
    {
      "cell_type": "code",
      "metadata": {
        "id": "WeCniDuKAkW5",
        "colab_type": "code",
        "colab": {
          "base_uri": "https://localhost:8080/",
          "height": 35
        },
        "outputId": "ad99fb38-9592-4ddb-ba78-c604982af077"
      },
      "source": [
        "np.random.choice(5,5,replace=False) #0부터 4까지 배열, 0이 들어간다. "
      ],
      "execution_count": null,
      "outputs": [
        {
          "output_type": "execute_result",
          "data": {
            "text/plain": [
              "array([2, 3, 4, 1, 0])"
            ]
          },
          "metadata": {
            "tags": []
          },
          "execution_count": 22
        }
      ]
    },
    {
      "cell_type": "code",
      "metadata": {
        "id": "13GsNk5vAyWP",
        "colab_type": "code",
        "colab": {
          "base_uri": "https://localhost:8080/",
          "height": 35
        },
        "outputId": "3c18232e-bdf3-47f4-b7f9-e7bce41c8f05"
      },
      "source": [
        "np.random.choice(5,5,replace=False)"
      ],
      "execution_count": null,
      "outputs": [
        {
          "output_type": "execute_result",
          "data": {
            "text/plain": [
              "array([2, 4, 1, 3, 0])"
            ]
          },
          "metadata": {
            "tags": []
          },
          "execution_count": 23
        }
      ]
    },
    {
      "cell_type": "code",
      "metadata": {
        "id": "JW71ctXaAznk",
        "colab_type": "code",
        "colab": {
          "base_uri": "https://localhost:8080/",
          "height": 35
        },
        "outputId": "c8486e27-5d99-4c08-f629-4cf05dcb7efb"
      },
      "source": [
        "x=np.arange(10) #0부터 9까지  나옵니다. \n",
        "np.random.choice(x,5) #0부터 9까지 나오는 배열 중에 5개를 뽑는다. "
      ],
      "execution_count": null,
      "outputs": [
        {
          "output_type": "execute_result",
          "data": {
            "text/plain": [
              "array([0, 2, 3, 8, 1])"
            ]
          },
          "metadata": {
            "tags": []
          },
          "execution_count": 25
        }
      ]
    },
    {
      "cell_type": "code",
      "metadata": {
        "id": "H7-jKZIUBfnZ",
        "colab_type": "code",
        "colab": {
          "base_uri": "https://localhost:8080/",
          "height": 35
        },
        "outputId": "f8771c36-05f0-4354-dbda-a06f8aab5889"
      },
      "source": [
        "np.random.choice(5,10,p=[0.1,0,0.3,0.6,0]) #0부터 4까지 중에 10번을 뽑는다 그런데 1과 4는 확률이 0"
      ],
      "execution_count": null,
      "outputs": [
        {
          "output_type": "execute_result",
          "data": {
            "text/plain": [
              "array([3, 3, 2, 3, 2, 3, 3, 3, 2, 3])"
            ]
          },
          "metadata": {
            "tags": []
          },
          "execution_count": 26
        }
      ]
    },
    {
      "cell_type": "markdown",
      "metadata": {
        "id": "7OONSrQzEILQ",
        "colab_type": "text"
      },
      "source": [
        "#3 로또 번호 만들어 드립니다. "
      ]
    },
    {
      "cell_type": "code",
      "metadata": {
        "id": "DybLfQPvERts",
        "colab_type": "code",
        "colab": {}
      },
      "source": [
        "import random as rp #무작위+중복방지 "
      ],
      "execution_count": null,
      "outputs": []
    },
    {
      "cell_type": "code",
      "metadata": {
        "id": "_ZebTsQzEYIs",
        "colab_type": "code",
        "colab": {
          "base_uri": "https://localhost:8080/",
          "height": 35
        },
        "outputId": "4d0f7123-2339-4836-a16a-2d43c0b901c3"
      },
      "source": [
        "lotto=rp.sample(range(1,46),6) #1부터 46개 중에 6개를 뽑습니다. \n",
        "print(lotto)"
      ],
      "execution_count": null,
      "outputs": [
        {
          "output_type": "stream",
          "text": [
            "[23, 7, 22, 9, 4, 19]\n"
          ],
          "name": "stdout"
        }
      ]
    }
  ]
}