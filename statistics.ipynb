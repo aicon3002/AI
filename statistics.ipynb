{
  "nbformat": 4,
  "nbformat_minor": 0,
  "metadata": {
    "colab": {
      "name": "statistics.ipynb",
      "provenance": [],
      "collapsed_sections": []
    },
    "kernelspec": {
      "name": "python3",
      "display_name": "Python 3"
    }
  },
  "cells": [
    {
      "cell_type": "markdown",
      "metadata": {
        "id": "b1X8oXQ6-SGY",
        "colab_type": "text"
      },
      "source": [
        "#1 난수(Random Number)발생 알고리즘"
      ]
    },
    {
      "cell_type": "code",
      "metadata": {
        "id": "jMdaTbP9-OJE",
        "colab_type": "code",
        "colab": {}
      },
      "source": [
        "import numpy as np  #numpy라는 난수발생 알고리즘 라이브러리를 실행합니다. 그리고 np라고 축약합니다."
      ],
      "execution_count": 1,
      "outputs": []
    },
    {
      "cell_type": "code",
      "metadata": {
        "id": "i6rusbVc-tA8",
        "colab_type": "code",
        "colab": {
          "base_uri": "https://localhost:8080/",
          "height": 34
        },
        "outputId": "50a59150-e2ed-4bff-e01c-66e365feb3d0"
      },
      "source": [
        "np.random.rand(5) #0에서 1까지 있는 수 중에 5개를 랜덤으로 뽑습니다. "
      ],
      "execution_count": 2,
      "outputs": [
        {
          "output_type": "execute_result",
          "data": {
            "text/plain": [
              "array([0.36033394, 0.09202929, 0.44949513, 0.9901725 , 0.34912067])"
            ]
          },
          "metadata": {
            "tags": []
          },
          "execution_count": 2
        }
      ]
    },
    {
      "cell_type": "code",
      "metadata": {
        "id": "4eHaOyuD_nh9",
        "colab_type": "code",
        "colab": {
          "base_uri": "https://localhost:8080/",
          "height": 34
        },
        "outputId": "36d47646-f368-4101-bf27-30de8ebaa13f"
      },
      "source": [
        "x=np.arange(10) #랜덤으로 0부터 9까지 나옵니다. \n",
        "np.random.permutation(x) #순서를 랜덤하게 바꿉니다. "
      ],
      "execution_count": 3,
      "outputs": [
        {
          "output_type": "execute_result",
          "data": {
            "text/plain": [
              "array([3, 8, 9, 1, 5, 0, 7, 4, 2, 6])"
            ]
          },
          "metadata": {
            "tags": []
          },
          "execution_count": 3
        }
      ]
    },
    {
      "cell_type": "code",
      "metadata": {
        "id": "Z0EZRiPeHKBt",
        "colab_type": "code",
        "colab": {
          "base_uri": "https://localhost:8080/",
          "height": 34
        },
        "outputId": "4482cd6b-1b38-4f64-8268-f32204afbab6"
      },
      "source": [
        "m=np.mean(x)\n",
        "print(m)"
      ],
      "execution_count": 4,
      "outputs": [
        {
          "output_type": "stream",
          "text": [
            "4.5\n"
          ],
          "name": "stdout"
        }
      ]
    },
    {
      "cell_type": "markdown",
      "metadata": {
        "id": "k2D4EfDZAMIv",
        "colab_type": "text"
      },
      "source": [
        "#2 표본 추출 및 통계량 계산\n",
        "np.random.choice(a, size=None, replace=True, p=None)\n",
        "\n",
        "a: 배열, \n",
        "size: 샘플 숫자 \n",
        "repalce : 복원/비복원 \n",
        "p: 배열, 데이터가 선택될 확률 "
      ]
    },
    {
      "cell_type": "markdown",
      "metadata": {
        "id": "lthskY2o-PVR",
        "colab_type": "text"
      },
      "source": [
        ""
      ]
    },
    {
      "cell_type": "code",
      "metadata": {
        "id": "WeCniDuKAkW5",
        "colab_type": "code",
        "colab": {
          "base_uri": "https://localhost:8080/",
          "height": 34
        },
        "outputId": "ac028442-85e5-4cf0-9a21-1212d3fe8583"
      },
      "source": [
        "x1=np.random.choice(x,5,replace=False) #5개 뽑기 \n",
        "print(x1)"
      ],
      "execution_count": 5,
      "outputs": [
        {
          "output_type": "stream",
          "text": [
            "[1 4 9 8 7]\n"
          ],
          "name": "stdout"
        }
      ]
    },
    {
      "cell_type": "code",
      "metadata": {
        "id": "ZNjhPLXRH4Th",
        "colab_type": "code",
        "colab": {}
      },
      "source": [
        ""
      ],
      "execution_count": null,
      "outputs": []
    },
    {
      "cell_type": "code",
      "metadata": {
        "id": "CPJmAK5FHn27",
        "colab_type": "code",
        "colab": {
          "base_uri": "https://localhost:8080/",
          "height": 34
        },
        "outputId": "b41e2961-9c0d-474d-bff4-8d41dc877758"
      },
      "source": [
        "m1=np.mean(x1)\n",
        "print(m1)"
      ],
      "execution_count": 6,
      "outputs": [
        {
          "output_type": "stream",
          "text": [
            "5.8\n"
          ],
          "name": "stdout"
        }
      ]
    },
    {
      "cell_type": "code",
      "metadata": {
        "id": "sYS-1QcTH5Cn",
        "colab_type": "code",
        "colab": {
          "base_uri": "https://localhost:8080/",
          "height": 34
        },
        "outputId": "f1f31cb6-5ec6-4cca-d575-a097f751ed0a"
      },
      "source": [
        "x2=np.random.choice(x,5,replace=False) #5개 뽑기 \n",
        "print(x2)"
      ],
      "execution_count": 7,
      "outputs": [
        {
          "output_type": "stream",
          "text": [
            "[2 3 7 0 5]\n"
          ],
          "name": "stdout"
        }
      ]
    },
    {
      "cell_type": "code",
      "metadata": {
        "id": "olHtGKkgH9J4",
        "colab_type": "code",
        "colab": {
          "base_uri": "https://localhost:8080/",
          "height": 34
        },
        "outputId": "30066d12-fa8c-48d9-9f0c-64a595d5c198"
      },
      "source": [
        "m2=np.mean(x2)\n",
        "print(m2)"
      ],
      "execution_count": 8,
      "outputs": [
        {
          "output_type": "stream",
          "text": [
            "3.4\n"
          ],
          "name": "stdout"
        }
      ]
    },
    {
      "cell_type": "code",
      "metadata": {
        "id": "EkLyvInVIBCX",
        "colab_type": "code",
        "colab": {
          "base_uri": "https://localhost:8080/",
          "height": 34
        },
        "outputId": "8d86e4c3-d93f-40a7-d26b-294e7740ed60"
      },
      "source": [
        "x3=np.random.choice(x,5,replace=False) #5개 뽑기 \n",
        "print(x3)"
      ],
      "execution_count": 9,
      "outputs": [
        {
          "output_type": "stream",
          "text": [
            "[5 7 4 2 0]\n"
          ],
          "name": "stdout"
        }
      ]
    },
    {
      "cell_type": "code",
      "metadata": {
        "id": "bIeI2BthIEjl",
        "colab_type": "code",
        "colab": {
          "base_uri": "https://localhost:8080/",
          "height": 34
        },
        "outputId": "9e1b96d6-bdfd-4137-b339-731d7f8df311"
      },
      "source": [
        "m3=np.mean(x3)\n",
        "print(m3)"
      ],
      "execution_count": 10,
      "outputs": [
        {
          "output_type": "stream",
          "text": [
            "3.6\n"
          ],
          "name": "stdout"
        }
      ]
    }
  ]
}